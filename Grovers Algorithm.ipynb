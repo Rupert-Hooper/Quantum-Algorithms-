{
 "cells": [
  {
   "cell_type": "code",
   "execution_count": 26,
   "metadata": {},
   "outputs": [],
   "source": [
    "from qiskit import *\n",
    "from qiskit_aer import Aer,AerSimulator\n",
    "from qiskit.visualization import plot_histogram\n",
    "import matplotlib.pyplot as plt\n",
    "import numpy as np\n",
    "\n",
    "\n"
   ]
  },
  {
   "cell_type": "code",
   "execution_count": 35,
   "metadata": {},
   "outputs": [
    {
     "data": {
      "text/html": [
       "<pre style=\"word-wrap: normal;white-space: pre;background: #fff0;line-height: 1.1;font-family: &quot;Courier New&quot;,Courier,monospace\">        \n",
       "q_0: ─■─\n",
       "      │ \n",
       "q_1: ─■─\n",
       "        </pre>"
      ],
      "text/plain": [
       "        \n",
       "q_0: ─■─\n",
       "      │ \n",
       "q_1: ─■─\n",
       "        "
      ]
     },
     "execution_count": 35,
     "metadata": {},
     "output_type": "execute_result"
    }
   ],
   "source": [
    "#define the oracle circuit\n",
    "oracle = QuantumCircuit(2,name=\"oracle\")\n",
    "oracle.cz(0,1)\n",
    "oracle.to_gate()\n",
    "oracle_instruction = oracle.to_instruction()  # Convert to instruction\n",
    "\n",
    "#Draw the oracle circuit\n",
    "oracle.draw()"
   ]
  },
  {
   "cell_type": "code",
   "execution_count": 36,
   "metadata": {},
   "outputs": [
    {
     "data": {
      "text/html": [
       "<pre style=\"word-wrap: normal;white-space: pre;background: #fff0;line-height: 1.1;font-family: &quot;Courier New&quot;,Courier,monospace\">     ┌───┐┌─────────┐ statevector \n",
       "q_0: ┤ H ├┤0        ├──────░──────\n",
       "     ├───┤│  oracle │      ░      \n",
       "q_1: ┤ H ├┤1        ├──────░──────\n",
       "     └───┘└─────────┘      ░      \n",
       "c: 2/═════════════════════════════\n",
       "                                  </pre>"
      ],
      "text/plain": [
       "     ┌───┐┌─────────┐ statevector \n",
       "q_0: ┤ H ├┤0        ├──────░──────\n",
       "     ├───┤│  oracle │      ░      \n",
       "q_1: ┤ H ├┤1        ├──────░──────\n",
       "     └───┘└─────────┘      ░      \n",
       "c: 2/═════════════════════════════\n",
       "                                  "
      ]
     },
     "execution_count": 36,
     "metadata": {},
     "output_type": "execute_result"
    }
   ],
   "source": [
    "backend = Aer.get_backend(\"statevector_simulator\")\n",
    "#create Grover's circuit\n",
    "grover_circ = QuantumCircuit(2,2)\n",
    "grover_circ.h([0,1]) # Apply Hadamard Gates\n",
    "grover_circ.append(oracle,[0,1]) #Append oracle instruction\n",
    "grover_circ.save_statevector() # Save statevector for analysis\n",
    "grover_circ.draw()"
   ]
  },
  {
   "cell_type": "code",
   "execution_count": 37,
   "metadata": {},
   "outputs": [],
   "source": [
    "\n",
    "# Use AerSimulator to run the circuit\n",
    "simulator = Aer.get_backend('aer_simulator')\n",
    "compiled_circuit = transpile(grover_circ, simulator)\n",
    "job = simulator.run(compiled_circuit, shots=1024)\n",
    "result = job.result()"
   ]
  },
  {
   "cell_type": "code",
   "execution_count": 38,
   "metadata": {},
   "outputs": [
    {
     "data": {
      "text/plain": [
       "array([ 0.5+0.j,  0.5+0.j,  0.5+0.j, -0.5+0.j])"
      ]
     },
     "execution_count": 38,
     "metadata": {},
     "output_type": "execute_result"
    }
   ],
   "source": [
    "# Get the statevector result\n",
    "statevector= result.get_statevector()\n",
    "np.around(statevector,2)"
   ]
  },
  {
   "cell_type": "code",
   "execution_count": 39,
   "metadata": {},
   "outputs": [],
   "source": [
    "# Define the reflection circuit and convert to instruction\n",
    "reflection = QuantumCircuit(2, name=\"reflection\")\n",
    "reflection.h([0, 1])\n",
    "reflection.z([0, 1])\n",
    "reflection.cz(0, 1)\n",
    "reflection.h([0, 1])\n",
    "reflection_instruction = reflection.to_instruction()  # Convert to instruction"
   ]
  },
  {
   "cell_type": "code",
   "execution_count": 40,
   "metadata": {},
   "outputs": [
    {
     "data": {
      "text/html": [
       "<pre style=\"word-wrap: normal;white-space: pre;background: #fff0;line-height: 1.1;font-family: &quot;Courier New&quot;,Courier,monospace\">     ┌───┐┌───┐   ┌───┐\n",
       "q_0: ┤ H ├┤ Z ├─■─┤ H ├\n",
       "     ├───┤├───┤ │ ├───┤\n",
       "q_1: ┤ H ├┤ Z ├─■─┤ H ├\n",
       "     └───┘└───┘   └───┘</pre>"
      ],
      "text/plain": [
       "     ┌───┐┌───┐   ┌───┐\n",
       "q_0: ┤ H ├┤ Z ├─■─┤ H ├\n",
       "     ├───┤├───┤ │ ├───┤\n",
       "q_1: ┤ H ├┤ Z ├─■─┤ H ├\n",
       "     └───┘└───┘   └───┘"
      ]
     },
     "execution_count": 40,
     "metadata": {},
     "output_type": "execute_result"
    }
   ],
   "source": [
    "# Draw the reflection circuit\n",
    "reflection.draw()"
   ]
  },
  {
   "cell_type": "code",
   "execution_count": 41,
   "metadata": {},
   "outputs": [
    {
     "data": {
      "text/html": [
       "<pre style=\"word-wrap: normal;white-space: pre;background: #fff0;line-height: 1.1;font-family: &quot;Courier New&quot;,Courier,monospace\">     ┌───┐┌─────────┐┌─────────────┐┌─┐   \n",
       "q_0: ┤ H ├┤0        ├┤0            ├┤M├───\n",
       "     ├───┤│  oracle ││  reflection │└╥┘┌─┐\n",
       "q_1: ┤ H ├┤1        ├┤1            ├─╫─┤M├\n",
       "     └───┘└─────────┘└─────────────┘ ║ └╥┘\n",
       "c: 2/════════════════════════════════╩══╩═\n",
       "                                     0  1 </pre>"
      ],
      "text/plain": [
       "     ┌───┐┌─────────┐┌─────────────┐┌─┐   \n",
       "q_0: ┤ H ├┤0        ├┤0            ├┤M├───\n",
       "     ├───┤│  oracle ││  reflection │└╥┘┌─┐\n",
       "q_1: ┤ H ├┤1        ├┤1            ├─╫─┤M├\n",
       "     └───┘└─────────┘└─────────────┘ ║ └╥┘\n",
       "c: 2/════════════════════════════════╩══╩═\n",
       "                                     0  1 "
      ]
     },
     "execution_count": 41,
     "metadata": {},
     "output_type": "execute_result"
    }
   ],
   "source": [
    "backend = Aer.get_backend(\"qasm_simulator\")\n",
    "\n",
    "# Define a new Grover's circuit for the full algorithm\n",
    "grover_circ = QuantumCircuit(2, 2)\n",
    "grover_circ.h([0, 1])  # Apply Hadamard gates\n",
    "grover_circ.append(oracle_instruction, [0, 1])  # Append oracle\n",
    "grover_circ.append(reflection_instruction, [0, 1])  # Append reflection\n",
    "grover_circ.measure([0, 1], [0, 1])  # Add measurement\n",
    "grover_circ.draw()\n"
   ]
  },
  {
   "cell_type": "code",
   "execution_count": 42,
   "metadata": {},
   "outputs": [
    {
     "data": {
      "text/html": [
       "<pre style=\"word-wrap: normal;white-space: pre;background: #fff0;line-height: 1.1;font-family: &quot;Courier New&quot;,Courier,monospace\">     ┌───┐┌─────────┐┌─────────────┐┌─┐   \n",
       "q_0: ┤ H ├┤0        ├┤0            ├┤M├───\n",
       "     ├───┤│  oracle ││  reflection │└╥┘┌─┐\n",
       "q_1: ┤ H ├┤1        ├┤1            ├─╫─┤M├\n",
       "     └───┘└─────────┘└─────────────┘ ║ └╥┘\n",
       "c: 2/════════════════════════════════╩══╩═\n",
       "                                     0  1 </pre>"
      ],
      "text/plain": [
       "     ┌───┐┌─────────┐┌─────────────┐┌─┐   \n",
       "q_0: ┤ H ├┤0        ├┤0            ├┤M├───\n",
       "     ├───┤│  oracle ││  reflection │└╥┘┌─┐\n",
       "q_1: ┤ H ├┤1        ├┤1            ├─╫─┤M├\n",
       "     └───┘└─────────┘└─────────────┘ ║ └╥┘\n",
       "c: 2/════════════════════════════════╩══╩═\n",
       "                                     0  1 "
      ]
     },
     "execution_count": 42,
     "metadata": {},
     "output_type": "execute_result"
    }
   ],
   "source": [
    "grover_circ.draw()"
   ]
  },
  {
   "cell_type": "code",
   "execution_count": 44,
   "metadata": {},
   "outputs": [
    {
     "data": {
      "image/png": "[encoded data removed]",
      "text/plain": [
       "<Figure size 640x480 with 1 Axes>"
      ]
     },
     "execution_count": 44,
     "metadata": {},
     "output_type": "execute_result"
    }
   ],
   "source": [
    "# Run the final Grover's algorithm on the simulator\n",
    "compiled_circuit = transpile(grover_circ, simulator)\n",
    "job = simulator.run(compiled_circuit, shots=1024)\n",
    "result = job.result()\n",
    "\n",
    "# Get the counts for the measurements\n",
    "counts = result.get_counts()\n",
    "plot_histogram(counts)\n"
   ]
  },
  {
   "cell_type": "code",
   "execution_count": null,
   "metadata": {},
   "outputs": [],
   "source": []
  }
 ],
 "metadata": {
  "kernelspec": {
   "display_name": "cwq",
   "language": "python",
   "name": "python3"
  },
  "language_info": {
   "codemirror_mode": {
    "name": "ipython",
    "version": 3
   },
   "file_extension": ".py",
   "mimetype": "text/x-python",
   "name": "python",
   "nbconvert_exporter": "python",
   "pygments_lexer": "ipython3",
   "version": "3.12.5"
  }
 },
 "nbformat": 4,
 "nbformat_minor": 2
}
